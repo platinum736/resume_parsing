{
 "cells": [
  {
   "cell_type": "code",
   "execution_count": 1,
   "id": "e759458b",
   "metadata": {},
   "outputs": [],
   "source": [
    "# words followed by 'client:'\n",
    "def extract_organisation(text):\n",
    "    lines = text.lower().split('\\n')\n",
    "    orgs = list()\n",
    "    for line in lines:\n",
    "        if line.find('client:')>-1:\n",
    "            if len(line.split(':'))>1:\n",
    "                ent = line.split(':')[1].split(',')[0].strip()\n",
    "                if ent != '':\n",
    "                    org = nltk.tokenize.sent_tokenize(ent)[0]\n",
    "                    #print(org)\n",
    "                    orgs.append(org)\n",
    "    #print(orgs)\n",
    "    return orgs"
   ]
  },
  {
   "cell_type": "code",
   "execution_count": 16,
   "id": "ae03a839",
   "metadata": {},
   "outputs": [],
   "source": [
    "import re\n",
    "def clean_text(text):\n",
    "    text = text.strip()\n",
    "    text = re.sub(r'\\t+',' ',text)\n",
    "    text = re.sub(r'\\n+','\\n',text)\n",
    "    return text"
   ]
  },
  {
   "cell_type": "code",
   "execution_count": 17,
   "id": "1a5e3480",
   "metadata": {},
   "outputs": [
    {
     "name": "stdout",
     "output_type": "stream",
     "text": [
      "\n",
      "\n",
      "ab\t\tcd\n"
     ]
    }
   ],
   "source": [
    "print('\\n\\nab\\t\\tcd')"
   ]
  },
  {
   "cell_type": "code",
   "execution_count": 18,
   "id": "8152e401",
   "metadata": {},
   "outputs": [
    {
     "data": {
      "text/plain": [
       "'ab c\\nd'"
      ]
     },
     "execution_count": 18,
     "metadata": {},
     "output_type": "execute_result"
    }
   ],
   "source": [
    "clean_text('\\n\\nab\\t\\tc\\n\\nd')"
   ]
  },
  {
   "cell_type": "code",
   "execution_count": 3,
   "id": "e196a794",
   "metadata": {},
   "outputs": [],
   "source": [
    "#words followed by environment:\n",
    "def extract_skills(text):\n",
    "    skills = list()\n",
    "    for line in text.split('\\n'):\n",
    "        line = line.lower()\n",
    "        if line.find('environment:')>-1:\n",
    "            skills.extend(line.replace('environment:','').split(','))\n",
    "    return skills"
   ]
  },
  {
   "cell_type": "code",
   "execution_count": 4,
   "id": "5ef45305",
   "metadata": {},
   "outputs": [],
   "source": [
    "#mostly first line would be name if not enter manually\n",
    "def extract_Name(text):\n",
    "    name = nltk.tokenize.sent_tokenize(text.strip())[0].split('\\n')[0]\n",
    "    print('extracted name',name)\n",
    "    res = input()\n",
    "    if res == 'y':\n",
    "        names.append(name)\n",
    "    elif res == 'e':\n",
    "        print(text.strip().split('\\n')[:5])\n",
    "        names.append(input())\n",
    "    else:\n",
    "        names.append(input())"
   ]
  },
  {
   "cell_type": "code",
   "execution_count": null,
   "id": "a6098d6d",
   "metadata": {},
   "outputs": [],
   "source": [
    "def extract_exp(text):\n",
    "    doc = nlp(text)\n",
    "    entities = dict()\n",
    "    for _ in doc.ents:\n",
    "        label = _.label_.lower()\n",
    "        entity = _.text.lower()\n",
    "        if label not in entities:\n",
    "            entities[label] = list()\n",
    "            entities[label].append(entity)\n",
    "        else:\n",
    "            entities[label].append(entity)\n",
    "    print('experience',entities['date'][0])\n",
    "    res = input()\n",
    "    if res == 'y':\n",
    "        return entities['date'][0]\n",
    "    elif res == 'e':\n",
    "        print(text.strip().split('\\n')[:10])\n",
    "        return input()\n",
    "    else:\n",
    "        return input()"
   ]
  },
  {
   "cell_type": "code",
   "execution_count": null,
   "id": "1dcbf2de",
   "metadata": {},
   "outputs": [],
   "source": [
    "#!/usr/bin/env python\n",
    "\n",
    "import tika\n",
    "tika.initVM()\n",
    "from tika import parser\n",
    "def read_file():\n",
    "    parsed = parser.from_file('./Resumes/Venkat_BA.docx')\n",
    "    print(parsed[\"metadata\"])\n",
    "    print(parsed[\"content\"])"
   ]
  },
  {
   "cell_type": "code",
   "execution_count": 5,
   "id": "d2538add",
   "metadata": {},
   "outputs": [],
   "source": [
    "# Dowloaded linkedin skills from kaggle and used it search in our resume, used words to filter unwanted skills"
   ]
  },
  {
   "cell_type": "code",
   "execution_count": 6,
   "id": "4cb1f267",
   "metadata": {},
   "outputs": [],
   "source": [
    "def filter_linkedin_skills():\n",
    "    all_skills =list()\n",
    "    with open('linkedin skill') as fp:\n",
    "        for line in fp.readlines():\n",
    "            all_skills.append(line.strip())\n",
    "    \n",
    "    # get all the words in all files\n",
    "    vocab = set()\n",
    "    for file in tqdm.tqdm(files):\n",
    "        text = read_file(file)\n",
    "        sents = nltk.tokenize.sent_tokenize(text)\n",
    "        for sent in sents:\n",
    "            for word in nltk.tokenize.word_tokenize(sent):\n",
    "                vocab.add(word)\n",
    "    \n",
    "    all_skills = vocab.intersection(all_skills)\n",
    "    return all_skills"
   ]
  },
  {
   "cell_type": "code",
   "execution_count": 7,
   "id": "3d73bf16",
   "metadata": {},
   "outputs": [],
   "source": [
    "def get_matches():\n",
    "    all_file_matches = list()\n",
    "    for file in tqdm.tqdm(files):\n",
    "        text = read_file(file)\n",
    "        all_matches = dict()\n",
    "        for skill in all_skills:\n",
    "            if skill == '':\n",
    "                continue\n",
    "            matches = [_.span() for _ in re.finditer(r'\\b(%s)\\b' % re.escape(skill), text)]\n",
    "            if len(matches)>0:\n",
    "                all_matches[skill] = matches\n",
    "        all_file_matches.append(all_matches)\n",
    "    return all_file_matches"
   ]
  },
  {
   "cell_type": "code",
   "execution_count": 8,
   "id": "74683097",
   "metadata": {},
   "outputs": [],
   "source": [
    "def get_entity_indexes(doc):\n",
    "    doc = resume_entities.loc[ix]\n",
    "    text = read_file(doc['file']).lower()\n",
    "    matches = list()\n",
    "    print(i,doc['file'])\n",
    "    for col in ['skill_matches','org_matches','experience','person name','city']:\n",
    "        entities = doc[col]\n",
    "        if col == 'skill_matches':\n",
    "            col = 'skill'\n",
    "            entities = literal_eval(entities)\n",
    "        elif col=='org_matches':\n",
    "            col = 'org'\n",
    "            entities = literal_eval(entities)\n",
    "        elif col == 'person name':\n",
    "            col = 'person'\n",
    "        if entities == 'None':\n",
    "            continue\n",
    "        if type(entities) in [dict,list]:\n",
    "            for ent in entities:\n",
    "                matches.extend([_.span()+(col,) for _ in re.finditer(r'\\b(%s)\\b' % re.escape(ent.lower().strip()), text)])\n",
    "        elif type(entities) is str:\n",
    "            temp = [_.span()+(col,) for _ in re.finditer(r'\\b(%s)\\b' % re.escape(entities.lower().strip()), text)]\n",
    "            if len(temp)>0:\n",
    "                matches.append(temp[0])\n",
    "        else:\n",
    "            continue\n",
    "    return matches"
   ]
  },
  {
   "cell_type": "code",
   "execution_count": null,
   "id": "63fb6c70",
   "metadata": {},
   "outputs": [],
   "source": []
  }
 ],
 "metadata": {
  "kernelspec": {
   "display_name": "Python 3",
   "language": "python",
   "name": "python3"
  },
  "language_info": {
   "codemirror_mode": {
    "name": "ipython",
    "version": 3
   },
   "file_extension": ".py",
   "mimetype": "text/x-python",
   "name": "python",
   "nbconvert_exporter": "python",
   "pygments_lexer": "ipython3",
   "version": "3.8.8"
  }
 },
 "nbformat": 4,
 "nbformat_minor": 5
}
